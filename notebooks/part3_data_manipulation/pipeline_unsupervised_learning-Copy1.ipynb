{
 "cells": [
  {
   "cell_type": "code",
   "execution_count": 5,
   "metadata": {},
   "outputs": [
    {
     "name": "stderr",
     "output_type": "stream",
     "text": [
      "/usr/local/lib/python3.7/site-packages/sklearn/model_selection/_search.py:823: FutureWarning: The parameter 'iid' is deprecated in 0.22 and will be removed in 0.24.\n",
      "  \"removed in 0.24.\", FutureWarning\n"
     ]
    },
    {
     "name": "stdout",
     "output_type": "stream",
     "text": [
      "pre-->svm\n",
      "f1_score 0.609\n",
      "pre-->rf\n",
      "f1_score 0.538\n"
     ]
    },
    {
     "name": "stderr",
     "output_type": "stream",
     "text": [
      "/usr/local/lib/python3.7/site-packages/sklearn/model_selection/_search.py:823: FutureWarning: The parameter 'iid' is deprecated in 0.22 and will be removed in 0.24.\n",
      "  \"removed in 0.24.\", FutureWarning\n"
     ]
    }
   ],
   "source": [
    "param_grid_svm = {\n",
    "    'svm__C': [0.01,0.1,0.5,1.0,1.5,5.0,10.0],\n",
    "    'svm__gamma': [0.001,0.01,0.1]\n",
    "}\n",
    "best_params = {}\n",
    "pipe_svm = Pipeline(steps=[('pre', preprocessor),\n",
    "                                ('svm',SVC(kernel='rbf',class_weight='balanced'))])\n",
    "grid = GridSearchCV(pipe_svm, param_grid=param_grid_svm, cv=5, iid=False, n_jobs=-1)\n",
    "grid.fit(X_train, y_train)\n",
    "y_pred = grid.predict(X_test)\n",
    "print(\"-->\".join(pipe_svm.named_steps.keys()))\n",
    "best_params = grid.best_params_\n",
    "print(\"f1_score\",round(f1_score(y_test, y_pred,average='binary'),3))\n",
    "\n",
    "param_grid_rf = {\n",
    "    'rf__n_estimators': [20,50,100,150],\n",
    "    'rf__max_depth': [4, 5, 6, 7, 8],\n",
    "    'rf__criterion': ['gini', 'entropy']\n",
    "}\n",
    "\n",
    "pipe_rf = Pipeline(steps=[('pre', preprocessor),\n",
    "                          ('rf',RandomForestClassifier())])\n",
    "grid = GridSearchCV(pipe_rf, param_grid=param_grid_rf, cv=5, iid=False, n_jobs=-1)\n",
    "grid.fit(X_train, y_train)\n",
    "y_pred = grid.predict(X_test)\n",
    "print(\"-->\".join(pipe_rf.named_steps.keys()))\n",
    "best_params = dict(best_params, **grid.best_params_)\n",
    "print(\"f1_score\",round(f1_score(y_test, y_pred,average='binary'),3))"
   ]
  }
 ],
 "metadata": {
  "kernelspec": {
   "display_name": "Python 3",
   "language": "python",
   "name": "python3"
  },
  "language_info": {
   "codemirror_mode": {
    "name": "ipython",
    "version": 3
   },
   "file_extension": ".py",
   "mimetype": "text/x-python",
   "name": "python",
   "nbconvert_exporter": "python",
   "pygments_lexer": "ipython3",
   "version": "3.7.5"
  }
 },
 "nbformat": 4,
 "nbformat_minor": 2
}
