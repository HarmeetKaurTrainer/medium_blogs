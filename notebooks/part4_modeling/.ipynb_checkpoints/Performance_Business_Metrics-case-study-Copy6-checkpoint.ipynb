{
 "cells": [
  {
   "cell_type": "code",
   "execution_count": 11,
   "metadata": {},
   "outputs": [],
   "source": [
    "def simulate_production(test_accuracy, num_weeks=26):\n",
    "    \"\"\"\n",
    "    INPUT: takes a value for test model accuracy\n",
    "    OUTPUT: returns a data frame with relevant features\n",
    "    \"\"\"\n",
    "\n",
    "    if test_accuracy < 0 or test_accuracy > 1.0:\n",
    "        raise Exception(\"test accuracy must be between 0 and 1\")\n",
    "    \n",
    "    ## simulate test accuracy (two component gaussian)\n",
    "    modes = np.random.binomial(n=1,p=0.3,size=num_weeks)\n",
    "    mode1 = np.where(modes==0)[0]\n",
    "    mode2 = np.where(modes==1)[0]\n",
    "    projected_em = np.zeros(num_weeks)\n",
    "    projected_em[mode1] = stats.norm(loc=test_accuracy,scale=0.02).rvs(mode1.size)\n",
    "    projected_em[mode2] = stats.norm(loc=test_accuracy,scale=0.04).rvs(mode2.size)\n",
    "    projected_em[projected_em > 0.99] = 0.99\n",
    "    \n",
    "    #print(projected_em)\n",
    "    min_val = 0.5\n",
    "    projected_bm = (1.0 - ((projected_em - min_val) / (1.0 - min_val))) * .1\n",
    "    #print(projected_bm)\n",
    "    \n",
    "    website_effects = np.array([0.0,0.02,-0.02])\n",
    "    website = np.sort(np.random.randint(0,3,num_weeks))\n",
    "    \n",
    "    for sv in np.unique(website):\n",
    "        projected_bm[website==sv] = projected_bm[website==sv] + website_effects[sv]\n",
    "    \n",
    "    data = {'churn_rate':projected_bm,\n",
    "            'accuracy':projected_em,\n",
    "            'website':website}\n",
    "    \n",
    "    return(pd.DataFrame(data))"
   ]
  },
  {
   "cell_type": "markdown",
   "metadata": {},
   "source": [
    "<iframe src=\"https://player.vimeo.com/video/87110435\" width=\"640\" height=\"360\"  frameborder=\"0\" allowfullscreen></iframe>"
   ]
  }
 ],
 "metadata": {
  "kernelspec": {
   "display_name": "Python 3",
   "language": "python",
   "name": "python3"
  },
  "language_info": {
   "codemirror_mode": {
    "name": "ipython",
    "version": 3
   },
   "file_extension": ".py",
   "mimetype": "text/x-python",
   "name": "python",
   "nbconvert_exporter": "python",
   "pygments_lexer": "ipython3",
   "version": "3.7.5"
  }
 },
 "nbformat": 4,
 "nbformat_minor": 2
}
