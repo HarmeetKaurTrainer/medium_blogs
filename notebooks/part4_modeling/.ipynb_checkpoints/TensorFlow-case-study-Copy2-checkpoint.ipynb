{
 "cells": [
  {
   "cell_type": "code",
   "execution_count": 7,
   "metadata": {},
   "outputs": [
    {
     "name": "stdout",
     "output_type": "stream",
     "text": [
      "-------------------------------------------\n",
      "X_train: (60000, 28, 28)\n",
      "num classes: 10, classes: [0, 1, 2, 3, 4, 5, 6, 7, 8, 9]\n",
      "class samples: [6000, 6000, 6000, 6000, 6000, 6000, 6000, 6000, 6000, 6000]\n",
      "class balance: [0.1, 0.1, 0.1, 0.1, 0.1, 0.1, 0.1, 0.1, 0.1, 0.1]\n",
      "(60000, 28, 28)\n",
      "-------------------------------------------\n"
     ]
    }
   ],
   "source": [
    "## YOUR CODE HERE (Summarize the data)\n",
    "\n",
    "print(\"-------------------------------------------\")\n",
    "print(\"X_train: {}\".format(X_train.shape))\n",
    "class_info = list(sorted(Counter(y_train).items()))\n",
    "print(\"num classes: {}, classes: {}\".format(len(class_info), [i[0] for i in class_info]))\n",
    "print(\"class samples: {}\".format([i[1] for i in class_info]))\n",
    "print(\"class balance: {}\".format([round(i[1]/X_train.shape[0],2) for i in class_info]))\n",
    "print(X_train.shape)\n",
    "print(\"-------------------------------------------\")"
   ]
  }
 ],
 "metadata": {
  "kernelspec": {
   "display_name": "Python 3",
   "language": "python",
   "name": "python3"
  },
  "language_info": {
   "codemirror_mode": {
    "name": "ipython",
    "version": 3
   },
   "file_extension": ".py",
   "mimetype": "text/x-python",
   "name": "python",
   "nbconvert_exporter": "python",
   "pygments_lexer": "ipython3",
   "version": "3.7.5"
  }
 },
 "nbformat": 4,
 "nbformat_minor": 2
}
