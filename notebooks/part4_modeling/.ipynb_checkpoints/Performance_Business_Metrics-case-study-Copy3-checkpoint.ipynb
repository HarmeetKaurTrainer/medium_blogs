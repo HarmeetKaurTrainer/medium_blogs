{
 "cells": [
  {
   "cell_type": "code",
   "execution_count": 8,
   "metadata": {},
   "outputs": [
    {
     "name": "stdout",
     "output_type": "stream",
     "text": [
      "---------------------------\n",
      "train [(0, 750), (1, 750)]\n",
      "test [(0, 250), (1, 250)]\n",
      "targets ['neg', 'pos']\n",
      "---------------------------\n"
     ]
    }
   ],
   "source": [
    "## train-test split\n",
    "\n",
    "rs = 42\n",
    "X_train, X_test, y_train, y_test = train_test_split(processed_corpus, y, test_size=0.25, stratify=y, random_state=rs)\n",
    "print(\"---------------------------\")\n",
    "print(\"train\", sorted(Counter(y_train).items()))\n",
    "print(\"test\", sorted(Counter(y_test).items()))\n",
    "print(\"targets\", target_names)\n",
    "print(\"---------------------------\")"
   ]
  },
  {
   "cell_type": "markdown",
   "metadata": {},
   "source": [
    "<iframe src=\"https://player.vimeo.com/video/87110435\" width=\"640\" height=\"360\"  frameborder=\"0\" allowfullscreen></iframe>"
   ]
  }
 ],
 "metadata": {
  "kernelspec": {
   "display_name": "Python 3",
   "language": "python",
   "name": "python3"
  },
  "language_info": {
   "codemirror_mode": {
    "name": "ipython",
    "version": 3
   },
   "file_extension": ".py",
   "mimetype": "text/x-python",
   "name": "python",
   "nbconvert_exporter": "python",
   "pygments_lexer": "ipython3",
   "version": "3.7.5"
  }
 },
 "nbformat": 4,
 "nbformat_minor": 2
}
