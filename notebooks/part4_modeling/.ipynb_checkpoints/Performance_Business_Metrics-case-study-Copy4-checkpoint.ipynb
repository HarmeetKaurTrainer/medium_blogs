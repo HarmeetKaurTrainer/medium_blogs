{
 "cells": [
  {
   "cell_type": "code",
   "execution_count": 9,
   "metadata": {},
   "outputs": [
    {
     "name": "stderr",
     "output_type": "stream",
     "text": [
      "/usr/local/lib/python3.7/site-packages/sklearn/model_selection/_search.py:823: FutureWarning: The parameter 'iid' is deprecated in 0.22 and will be removed in 0.24.\n",
      "  \"removed in 0.24.\", FutureWarning\n"
     ]
    },
    {
     "name": "stdout",
     "output_type": "stream",
     "text": [
      "train time 00:00:15\n",
      "              precision    recall  f1-score   support\n",
      "\n",
      "         neg       0.79      0.82      0.81       250\n",
      "         pos       0.82      0.78      0.80       250\n",
      "\n",
      "    accuracy                           0.80       500\n",
      "   macro avg       0.80      0.80      0.80       500\n",
      "weighted avg       0.80      0.80      0.80       500\n",
      "\n",
      "{'nb__alpha': 1.0, 'tfidf__max_df': 0.6, 'tfidf__max_features': 6000}\n"
     ]
    }
   ],
   "source": [
    "## base model\n",
    "from sklearn.naive_bayes import ComplementNB\n",
    "\n",
    "time_start = time.time()\n",
    "pipe1  = Pipeline(steps=[('tfidf',TfidfVectorizer()),\n",
    "                         ('nb', ComplementNB())])\n",
    "\n",
    "param_grid1 = {\n",
    "    'tfidf__max_df':[0.4,0.6,0.8],\n",
    "    'tfidf__max_features': [2000,4000,6000],\n",
    "    'nb__alpha':[0.01, 0.1, 1.0]   \n",
    "}\n",
    "\n",
    "grid1 = GridSearchCV(pipe1, param_grid=param_grid1, cv=5, iid=False, n_jobs=-1)\n",
    "grid1.fit(X_train, y_train)\n",
    "y_pred = grid1.predict(X_test)\n",
    "print(\"train time\", time.strftime('%H:%M:%S', time.gmtime(time.time()-time_start)))\n",
    "print(classification_report(y_test, y_pred, target_names=target_names))\n",
    "print(grid1.best_params_)"
   ]
  },
  {
   "cell_type": "markdown",
   "metadata": {},
   "source": [
    "<iframe src=\"https://player.vimeo.com/video/87110435\" width=\"640\" height=\"360\"  frameborder=\"0\" allowfullscreen></iframe>"
   ]
  }
 ],
 "metadata": {
  "kernelspec": {
   "display_name": "Python 3",
   "language": "python",
   "name": "python3"
  },
  "language_info": {
   "codemirror_mode": {
    "name": "ipython",
    "version": 3
   },
   "file_extension": ".py",
   "mimetype": "text/x-python",
   "name": "python",
   "nbconvert_exporter": "python",
   "pygments_lexer": "ipython3",
   "version": "3.7.5"
  }
 },
 "nbformat": 4,
 "nbformat_minor": 2
}
