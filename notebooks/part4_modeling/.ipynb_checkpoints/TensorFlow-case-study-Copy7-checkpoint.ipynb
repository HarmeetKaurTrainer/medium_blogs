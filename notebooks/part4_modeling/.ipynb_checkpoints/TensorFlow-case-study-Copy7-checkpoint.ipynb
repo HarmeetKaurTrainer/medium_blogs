{
 "cells": [
  {
   "cell_type": "code",
   "execution_count": 18,
   "metadata": {},
   "outputs": [
    {
     "name": "stdout",
     "output_type": "stream",
     "text": [
      "loss_function,sparse_categorical_crossentropy\r",
      "\r\n",
      "optimizer,adam\r",
      "\r\n",
      "test_loss,0.3433923669576645\r",
      "\r\n",
      "test_acc,0.8787\r",
      "\r\n"
     ]
    }
   ],
   "source": [
    "!cat ./saved/simple_mlp.log"
   ]
  }
 ],
 "metadata": {
  "kernelspec": {
   "display_name": "Python 3",
   "language": "python",
   "name": "python3"
  },
  "language_info": {
   "codemirror_mode": {
    "name": "ipython",
    "version": 3
   },
   "file_extension": ".py",
   "mimetype": "text/x-python",
   "name": "python",
   "nbconvert_exporter": "python",
   "pygments_lexer": "ipython3",
   "version": "3.7.5"
  }
 },
 "nbformat": 4,
 "nbformat_minor": 2
}
