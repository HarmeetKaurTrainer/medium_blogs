{
 "cells": [
  {
   "cell_type": "code",
   "execution_count": 15,
   "metadata": {
    "scrolled": true
   },
   "outputs": [
    {
     "name": "stdout",
     "output_type": "stream",
     "text": [
      "Model: \"sequential_3\"\n",
      "_________________________________________________________________\n",
      "Layer (type)                 Output Shape              Param #   \n",
      "=================================================================\n",
      "conv2d_6 (Conv2D)            (None, 26, 26, 28)        280       \n",
      "_________________________________________________________________\n",
      "max_pooling2d_4 (MaxPooling2 (None, 13, 13, 28)        0         \n",
      "_________________________________________________________________\n",
      "conv2d_7 (Conv2D)            (None, 11, 11, 64)        16192     \n",
      "_________________________________________________________________\n",
      "max_pooling2d_5 (MaxPooling2 (None, 5, 5, 64)          0         \n",
      "_________________________________________________________________\n",
      "conv2d_8 (Conv2D)            (None, 3, 3, 64)          36928     \n",
      "_________________________________________________________________\n",
      "flatten_3 (Flatten)          (None, 576)               0         \n",
      "_________________________________________________________________\n",
      "dense_6 (Dense)              (None, 64)                36928     \n",
      "_________________________________________________________________\n",
      "dense_7 (Dense)              (None, 10)                650       \n",
      "=================================================================\n",
      "Total params: 90,978\n",
      "Trainable params: 90,978\n",
      "Non-trainable params: 0\n",
      "_________________________________________________________________\n"
     ]
    }
   ],
   "source": [
    "## Build a CNN model\n",
    "\n",
    "\n",
    "def build_cnn(activation_fn='relu',dropout=None):\n",
    "    \"\"\"\n",
    "    create a simple cnn\n",
    "    \"\"\"\n",
    "\n",
    "    num_classes = np.unique(y_train).size\n",
    "    \n",
    "    if not dropout:\n",
    "        dropout = [False,False]\n",
    "    \n",
    "    model = keras.Sequential()\n",
    "    \n",
    "    model.add(keras.layers.Conv2D(28, (3, 3), activation=activation_fn, input_shape=(28, 28, 1)))\n",
    "    model.add(keras.layers.MaxPooling2D((2, 2)))\n",
    "    \n",
    "    if dropout[0]:\n",
    "        model.add(tf.keras.layers.Dropout(0.3))\n",
    "    \n",
    "    model.add(keras.layers.Conv2D(64, (3, 3), activation=activation_fn))\n",
    "    model.add(keras.layers.MaxPooling2D((2, 2)))\n",
    "    \n",
    "    if dropout[0]:\n",
    "        model.add(tf.keras.layers.Dropout(0.3))\n",
    "    \n",
    "    model.add(keras.layers.Conv2D(64, (3, 3), activation=activation_fn))\n",
    "    \n",
    "    model.add(keras.layers.Flatten())\n",
    "    model.add(keras.layers.Dense(64, activation=activation_fn))\n",
    "    model.add(keras.layers.Dense(num_classes, activation='softmax'))\n",
    "    \n",
    "\n",
    "    return(model)\n",
    "\n",
    "\n",
    "model = build_cnn(activation_fn='relu')\n",
    "model.summary()"
   ]
  }
 ],
 "metadata": {
  "kernelspec": {
   "display_name": "Python 3",
   "language": "python",
   "name": "python3"
  },
  "language_info": {
   "codemirror_mode": {
    "name": "ipython",
    "version": 3
   },
   "file_extension": ".py",
   "mimetype": "text/x-python",
   "name": "python",
   "nbconvert_exporter": "python",
   "pygments_lexer": "ipython3",
   "version": "3.7.5"
  }
 },
 "nbformat": 4,
 "nbformat_minor": 2
}
