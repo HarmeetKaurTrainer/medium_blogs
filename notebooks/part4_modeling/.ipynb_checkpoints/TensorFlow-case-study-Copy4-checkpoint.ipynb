{
 "cells": [
  {
   "cell_type": "code",
   "execution_count": 9,
   "metadata": {},
   "outputs": [
    {
     "name": "stdout",
     "output_type": "stream",
     "text": [
      "pca-->svm\n",
      "              precision    recall  f1-score   support\n",
      "\n",
      " T-shirt/top       0.81      0.85      0.83      1000\n",
      "     Trouser       0.99      0.96      0.98      1000\n",
      "    Pullover       0.78      0.80      0.79      1000\n",
      "       Dress       0.88      0.89      0.88      1000\n",
      "        Coat       0.79      0.80      0.80      1000\n",
      "      Sandal       0.96      0.93      0.95      1000\n",
      "       Shirt       0.70      0.64      0.67      1000\n",
      "     Sneaker       0.91      0.94      0.93      1000\n",
      "         Bag       0.96      0.98      0.97      1000\n",
      "  Ankle boot       0.95      0.95      0.95      1000\n",
      "\n",
      "    accuracy                           0.87     10000\n",
      "   macro avg       0.87      0.87      0.87     10000\n",
      "weighted avg       0.87      0.87      0.87     10000\n",
      "\n"
     ]
    }
   ],
   "source": [
    "y_pred = grid.predict(X_test_flat)\n",
    "print(\"-->\".join(pipe.named_steps.keys()))\n",
    "print(classification_report(y_test, y_pred,target_names=np.array(class_names)))"
   ]
  }
 ],
 "metadata": {
  "kernelspec": {
   "display_name": "Python 3",
   "language": "python",
   "name": "python3"
  },
  "language_info": {
   "codemirror_mode": {
    "name": "ipython",
    "version": 3
   },
   "file_extension": ".py",
   "mimetype": "text/x-python",
   "name": "python",
   "nbconvert_exporter": "python",
   "pygments_lexer": "ipython3",
   "version": "3.7.5"
  }
 },
 "nbformat": 4,
 "nbformat_minor": 2
}
