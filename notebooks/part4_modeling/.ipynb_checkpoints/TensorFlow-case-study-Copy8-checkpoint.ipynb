{
 "cells": [
  {
   "cell_type": "code",
   "execution_count": 19,
   "metadata": {},
   "outputs": [
    {
     "name": "stdout",
     "output_type": "stream",
     "text": [
      "Train on 60000 samples, validate on 10000 samples\n",
      "Epoch 1/10\n",
      "60000/60000 [==============================] - 29s 488us/sample - loss: 0.5722 - accuracy: 0.7874 - val_loss: 0.4281 - val_accuracy: 0.8435\n",
      "Epoch 2/10\n",
      "60000/60000 [==============================] - 29s 488us/sample - loss: 0.3562 - accuracy: 0.8710 - val_loss: 0.3382 - val_accuracy: 0.8775\n",
      "Epoch 3/10\n",
      "60000/60000 [==============================] - 31s 517us/sample - loss: 0.3029 - accuracy: 0.8891 - val_loss: 0.3036 - val_accuracy: 0.8895\n",
      "Epoch 4/10\n",
      "60000/60000 [==============================] - 29s 484us/sample - loss: 0.2698 - accuracy: 0.9010 - val_loss: 0.2892 - val_accuracy: 0.8962\n",
      "Epoch 5/10\n",
      "60000/60000 [==============================] - 29s 491us/sample - loss: 0.2464 - accuracy: 0.9089 - val_loss: 0.2877 - val_accuracy: 0.8930\n",
      "Epoch 6/10\n",
      "60000/60000 [==============================] - 30s 499us/sample - loss: 0.2281 - accuracy: 0.9157 - val_loss: 0.2831 - val_accuracy: 0.8983\n",
      "Epoch 7/10\n",
      "60000/60000 [==============================] - 33s 546us/sample - loss: 0.2090 - accuracy: 0.9224 - val_loss: 0.2724 - val_accuracy: 0.9066\n",
      "Epoch 8/10\n",
      "60000/60000 [==============================] - 30s 499us/sample - loss: 0.1934 - accuracy: 0.9286 - val_loss: 0.2521 - val_accuracy: 0.9121\n",
      "Epoch 9/10\n",
      "60000/60000 [==============================] - 29s 487us/sample - loss: 0.1807 - accuracy: 0.9324 - val_loss: 0.2560 - val_accuracy: 0.9129\n",
      "Epoch 10/10\n",
      "60000/60000 [==============================] - 31s 509us/sample - loss: 0.1650 - accuracy: 0.9391 - val_loss: 0.2565 - val_accuracy: 0.9144\n",
      "10000/1 - 2s - loss: 0.2654 - accuracy: 0.9144\n"
     ]
    }
   ],
   "source": [
    "## build and train a CNN\n",
    "\n",
    "## add the channel dimensions to your data\n",
    "X_train_1 = np.expand_dims(X_train, -1)\n",
    "X_test_1 = np.expand_dims(X_test, -1)\n",
    "\n",
    "model_cnn = build_cnn(activation_fn='relu')\n",
    "model_cnn = train_network(\"cnn\", model_cnn, \"sparse_categorical_crossentropy\", \n",
    "                          X_train_1,\n",
    "                          y_train,\n",
    "                          X_test_1,\n",
    "                          y_test,\n",
    "                          optimizer='adam')"
   ]
  }
 ],
 "metadata": {
  "kernelspec": {
   "display_name": "Python 3",
   "language": "python",
   "name": "python3"
  },
  "language_info": {
   "codemirror_mode": {
    "name": "ipython",
    "version": 3
   },
   "file_extension": ".py",
   "mimetype": "text/x-python",
   "name": "python",
   "nbconvert_exporter": "python",
   "pygments_lexer": "ipython3",
   "version": "3.7.5"
  }
 },
 "nbformat": 4,
 "nbformat_minor": 2
}
