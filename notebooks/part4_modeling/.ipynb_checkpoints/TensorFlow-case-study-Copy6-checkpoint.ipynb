{
 "cells": [
  {
   "cell_type": "code",
   "execution_count": 17,
   "metadata": {
    "scrolled": true
   },
   "outputs": [
    {
     "name": "stdout",
     "output_type": "stream",
     "text": [
      "Train on 60000 samples, validate on 10000 samples\n",
      "Epoch 1/10\n",
      "60000/60000 [==============================] - 3s 56us/sample - loss: 0.5224 - accuracy: 0.8179 - val_loss: 0.4274 - val_accuracy: 0.8505\n",
      "Epoch 2/10\n",
      "60000/60000 [==============================] - 3s 46us/sample - loss: 0.3792 - accuracy: 0.8648 - val_loss: 0.4135 - val_accuracy: 0.8493\n",
      "Epoch 3/10\n",
      "60000/60000 [==============================] - 3s 44us/sample - loss: 0.3437 - accuracy: 0.8760 - val_loss: 0.3721 - val_accuracy: 0.8626\n",
      "Epoch 4/10\n",
      "60000/60000 [==============================] - 3s 45us/sample - loss: 0.3172 - accuracy: 0.8835 - val_loss: 0.3853 - val_accuracy: 0.8600\n",
      "Epoch 5/10\n",
      "60000/60000 [==============================] - 3s 45us/sample - loss: 0.2991 - accuracy: 0.8900 - val_loss: 0.3679 - val_accuracy: 0.8669\n",
      "Epoch 6/10\n",
      "60000/60000 [==============================] - 3s 45us/sample - loss: 0.2865 - accuracy: 0.8951 - val_loss: 0.3479 - val_accuracy: 0.8762\n",
      "Epoch 7/10\n",
      "60000/60000 [==============================] - 3s 44us/sample - loss: 0.2734 - accuracy: 0.8990 - val_loss: 0.3339 - val_accuracy: 0.8788\n",
      "Epoch 8/10\n",
      "60000/60000 [==============================] - 3s 44us/sample - loss: 0.2615 - accuracy: 0.9035 - val_loss: 0.3612 - val_accuracy: 0.8683\n",
      "Epoch 9/10\n",
      "60000/60000 [==============================] - 3s 46us/sample - loss: 0.2527 - accuracy: 0.9066 - val_loss: 0.3382 - val_accuracy: 0.8848\n",
      "Epoch 10/10\n",
      "60000/60000 [==============================] - 3s 45us/sample - loss: 0.2416 - accuracy: 0.9101 - val_loss: 0.3434 - val_accuracy: 0.8787\n",
      "10000/1 - 0s - loss: 0.2370 - accuracy: 0.8787\n"
     ]
    }
   ],
   "source": [
    "## build and train a MLP\n",
    "model_mlp = build_mlp(activation_fn='relu')\n",
    "model_mlp = train_network(\"simple_mlp\", model_mlp, \"sparse_categorical_crossentropy\",\n",
    "                          X_train,\n",
    "                          y_train,\n",
    "                          X_test,\n",
    "                          y_test,\n",
    "                          optimizer='adam')"
   ]
  }
 ],
 "metadata": {
  "kernelspec": {
   "display_name": "Python 3",
   "language": "python",
   "name": "python3"
  },
  "language_info": {
   "codemirror_mode": {
    "name": "ipython",
    "version": 3
   },
   "file_extension": ".py",
   "mimetype": "text/x-python",
   "name": "python",
   "nbconvert_exporter": "python",
   "pygments_lexer": "ipython3",
   "version": "3.7.5"
  }
 },
 "nbformat": 4,
 "nbformat_minor": 2
}
