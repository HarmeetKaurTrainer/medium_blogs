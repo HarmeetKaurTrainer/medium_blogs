{
 "cells": [
  {
   "cell_type": "code",
   "execution_count": 13,
   "metadata": {},
   "outputs": [
    {
     "name": "stdout",
     "output_type": "stream",
     "text": [
      "                            OLS Regression Results                            \n",
      "==============================================================================\n",
      "Dep. Variable:             churn_rate   R-squared:                       1.000\n",
      "Model:                            OLS   Adj. R-squared:                  1.000\n",
      "Method:                 Least Squares   F-statistic:                 4.004e+29\n",
      "Date:                Wed, 12 Feb 2020   Prob (F-statistic):          3.01e-316\n",
      "Time:                        20:32:39   Log-Likelihood:                 929.19\n",
      "No. Observations:                  26   AIC:                            -1850.\n",
      "Df Residuals:                      22   BIC:                            -1845.\n",
      "Df Model:                           3                                         \n",
      "Covariance Type:            nonrobust                                         \n",
      "===================================================================================\n",
      "                      coef    std err          t      P>|t|      [0.025      0.975]\n",
      "-----------------------------------------------------------------------------------\n",
      "Intercept           0.2000    3.8e-16   5.27e+14      0.000       0.200       0.200\n",
      "C(website)[T.1]     0.0200   4.03e-17   4.96e+14      0.000       0.020       0.020\n",
      "C(website)[T.2]    -0.0200   3.92e-17  -5.11e+14      0.000      -0.020      -0.020\n",
      "accuracy           -0.2000   4.75e-16  -4.21e+14      0.000      -0.200      -0.200\n",
      "==============================================================================\n",
      "Omnibus:                        5.327   Durbin-Watson:                   0.064\n",
      "Prob(Omnibus):                  0.070   Jarque-Bera (JB):                2.181\n",
      "Skew:                           0.367   Prob(JB):                        0.336\n",
      "Kurtosis:                       1.786   Cond. No.                         54.2\n",
      "==============================================================================\n",
      "\n",
      "Warnings:\n",
      "[1] Standard Errors assume that the covariance matrix of the errors is correctly specified.\n"
     ]
    }
   ],
   "source": [
    "import statsmodels.formula.api as smf\n",
    "\n",
    "mod = smf.ols(formula='churn_rate ~ accuracy + C(website)', data=df)\n",
    "res = mod.fit()\n",
    "print(res.summary())"
   ]
  },
  {
   "cell_type": "markdown",
   "metadata": {},
   "source": [
    "<iframe src=\"https://player.vimeo.com/video/87110435\" width=\"640\" height=\"360\"  frameborder=\"0\" allowfullscreen></iframe>"
   ]
  }
 ],
 "metadata": {
  "kernelspec": {
   "display_name": "Python 3",
   "language": "python",
   "name": "python3"
  },
  "language_info": {
   "codemirror_mode": {
    "name": "ipython",
    "version": 3
   },
   "file_extension": ".py",
   "mimetype": "text/x-python",
   "name": "python",
   "nbconvert_exporter": "python",
   "pygments_lexer": "ipython3",
   "version": "3.7.5"
  }
 },
 "nbformat": 4,
 "nbformat_minor": 2
}
